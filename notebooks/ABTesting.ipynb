{
 "cells": [
  {
   "cell_type": "code",
   "execution_count": 9,
   "metadata": {},
   "outputs": [],
   "source": [
    "import os\n",
    "import sys\n",
    "sys.path.append('../')\n",
    "import pandas as pd\n",
    "import numpy as np\n",
    "from statsmodels.stats.power import TTestIndPower\n",
    "from statsmodels.stats.power import tt_ind_solve_power\n",
    "from statsmodels.stats.power import FTestAnovaPower\n",
    "from src.data_quality_checks import check_missing_data\n",
    "from scipy.stats import chi2_contingency"
   ]
  },
  {
   "cell_type": "markdown",
   "metadata": {},
   "source": [
    "Load data"
   ]
  },
  {
   "cell_type": "code",
   "execution_count": 10,
   "metadata": {},
   "outputs": [],
   "source": [
    "# Loading historical data\n",
    "file_path = \"../data/MachineLearningRating_v3.txt\"\n",
    "\n",
    "df = pd.read_csv(file_path, sep='|', low_memory=False)"
   ]
  },
  {
   "cell_type": "code",
   "execution_count": 11,
   "metadata": {},
   "outputs": [
    {
     "data": {
      "text/html": [
       "<div>\n",
       "<style scoped>\n",
       "    .dataframe tbody tr th:only-of-type {\n",
       "        vertical-align: middle;\n",
       "    }\n",
       "\n",
       "    .dataframe tbody tr th {\n",
       "        vertical-align: top;\n",
       "    }\n",
       "\n",
       "    .dataframe thead th {\n",
       "        text-align: right;\n",
       "    }\n",
       "</style>\n",
       "<table border=\"1\" class=\"dataframe\">\n",
       "  <thead>\n",
       "    <tr style=\"text-align: right;\">\n",
       "      <th></th>\n",
       "      <th>UnderwrittenCoverID</th>\n",
       "      <th>PolicyID</th>\n",
       "      <th>TransactionMonth</th>\n",
       "      <th>IsVATRegistered</th>\n",
       "      <th>Citizenship</th>\n",
       "      <th>LegalType</th>\n",
       "      <th>Title</th>\n",
       "      <th>Language</th>\n",
       "      <th>Bank</th>\n",
       "      <th>AccountType</th>\n",
       "      <th>...</th>\n",
       "      <th>ExcessSelected</th>\n",
       "      <th>CoverCategory</th>\n",
       "      <th>CoverType</th>\n",
       "      <th>CoverGroup</th>\n",
       "      <th>Section</th>\n",
       "      <th>Product</th>\n",
       "      <th>StatutoryClass</th>\n",
       "      <th>StatutoryRiskType</th>\n",
       "      <th>TotalPremium</th>\n",
       "      <th>TotalClaims</th>\n",
       "    </tr>\n",
       "  </thead>\n",
       "  <tbody>\n",
       "    <tr>\n",
       "      <th>0</th>\n",
       "      <td>145249</td>\n",
       "      <td>12827</td>\n",
       "      <td>2015-03-01 00:00:00</td>\n",
       "      <td>True</td>\n",
       "      <td></td>\n",
       "      <td>Close Corporation</td>\n",
       "      <td>Mr</td>\n",
       "      <td>English</td>\n",
       "      <td>First National Bank</td>\n",
       "      <td>Current account</td>\n",
       "      <td>...</td>\n",
       "      <td>Mobility - Windscreen</td>\n",
       "      <td>Windscreen</td>\n",
       "      <td>Windscreen</td>\n",
       "      <td>Comprehensive - Taxi</td>\n",
       "      <td>Motor Comprehensive</td>\n",
       "      <td>Mobility Metered Taxis: Monthly</td>\n",
       "      <td>Commercial</td>\n",
       "      <td>IFRS Constant</td>\n",
       "      <td>21.929825</td>\n",
       "      <td>0.0</td>\n",
       "    </tr>\n",
       "    <tr>\n",
       "      <th>1</th>\n",
       "      <td>145249</td>\n",
       "      <td>12827</td>\n",
       "      <td>2015-05-01 00:00:00</td>\n",
       "      <td>True</td>\n",
       "      <td></td>\n",
       "      <td>Close Corporation</td>\n",
       "      <td>Mr</td>\n",
       "      <td>English</td>\n",
       "      <td>First National Bank</td>\n",
       "      <td>Current account</td>\n",
       "      <td>...</td>\n",
       "      <td>Mobility - Windscreen</td>\n",
       "      <td>Windscreen</td>\n",
       "      <td>Windscreen</td>\n",
       "      <td>Comprehensive - Taxi</td>\n",
       "      <td>Motor Comprehensive</td>\n",
       "      <td>Mobility Metered Taxis: Monthly</td>\n",
       "      <td>Commercial</td>\n",
       "      <td>IFRS Constant</td>\n",
       "      <td>21.929825</td>\n",
       "      <td>0.0</td>\n",
       "    </tr>\n",
       "    <tr>\n",
       "      <th>2</th>\n",
       "      <td>145249</td>\n",
       "      <td>12827</td>\n",
       "      <td>2015-07-01 00:00:00</td>\n",
       "      <td>True</td>\n",
       "      <td></td>\n",
       "      <td>Close Corporation</td>\n",
       "      <td>Mr</td>\n",
       "      <td>English</td>\n",
       "      <td>First National Bank</td>\n",
       "      <td>Current account</td>\n",
       "      <td>...</td>\n",
       "      <td>Mobility - Windscreen</td>\n",
       "      <td>Windscreen</td>\n",
       "      <td>Windscreen</td>\n",
       "      <td>Comprehensive - Taxi</td>\n",
       "      <td>Motor Comprehensive</td>\n",
       "      <td>Mobility Metered Taxis: Monthly</td>\n",
       "      <td>Commercial</td>\n",
       "      <td>IFRS Constant</td>\n",
       "      <td>0.000000</td>\n",
       "      <td>0.0</td>\n",
       "    </tr>\n",
       "    <tr>\n",
       "      <th>3</th>\n",
       "      <td>145255</td>\n",
       "      <td>12827</td>\n",
       "      <td>2015-05-01 00:00:00</td>\n",
       "      <td>True</td>\n",
       "      <td></td>\n",
       "      <td>Close Corporation</td>\n",
       "      <td>Mr</td>\n",
       "      <td>English</td>\n",
       "      <td>First National Bank</td>\n",
       "      <td>Current account</td>\n",
       "      <td>...</td>\n",
       "      <td>Mobility - Metered Taxis - R2000</td>\n",
       "      <td>Own damage</td>\n",
       "      <td>Own Damage</td>\n",
       "      <td>Comprehensive - Taxi</td>\n",
       "      <td>Motor Comprehensive</td>\n",
       "      <td>Mobility Metered Taxis: Monthly</td>\n",
       "      <td>Commercial</td>\n",
       "      <td>IFRS Constant</td>\n",
       "      <td>512.848070</td>\n",
       "      <td>0.0</td>\n",
       "    </tr>\n",
       "    <tr>\n",
       "      <th>4</th>\n",
       "      <td>145255</td>\n",
       "      <td>12827</td>\n",
       "      <td>2015-07-01 00:00:00</td>\n",
       "      <td>True</td>\n",
       "      <td></td>\n",
       "      <td>Close Corporation</td>\n",
       "      <td>Mr</td>\n",
       "      <td>English</td>\n",
       "      <td>First National Bank</td>\n",
       "      <td>Current account</td>\n",
       "      <td>...</td>\n",
       "      <td>Mobility - Metered Taxis - R2000</td>\n",
       "      <td>Own damage</td>\n",
       "      <td>Own Damage</td>\n",
       "      <td>Comprehensive - Taxi</td>\n",
       "      <td>Motor Comprehensive</td>\n",
       "      <td>Mobility Metered Taxis: Monthly</td>\n",
       "      <td>Commercial</td>\n",
       "      <td>IFRS Constant</td>\n",
       "      <td>0.000000</td>\n",
       "      <td>0.0</td>\n",
       "    </tr>\n",
       "  </tbody>\n",
       "</table>\n",
       "<p>5 rows × 52 columns</p>\n",
       "</div>"
      ],
      "text/plain": [
       "   UnderwrittenCoverID  PolicyID     TransactionMonth  IsVATRegistered  \\\n",
       "0               145249     12827  2015-03-01 00:00:00             True   \n",
       "1               145249     12827  2015-05-01 00:00:00             True   \n",
       "2               145249     12827  2015-07-01 00:00:00             True   \n",
       "3               145255     12827  2015-05-01 00:00:00             True   \n",
       "4               145255     12827  2015-07-01 00:00:00             True   \n",
       "\n",
       "  Citizenship          LegalType Title Language                 Bank  \\\n",
       "0              Close Corporation    Mr  English  First National Bank   \n",
       "1              Close Corporation    Mr  English  First National Bank   \n",
       "2              Close Corporation    Mr  English  First National Bank   \n",
       "3              Close Corporation    Mr  English  First National Bank   \n",
       "4              Close Corporation    Mr  English  First National Bank   \n",
       "\n",
       "       AccountType  ...                    ExcessSelected CoverCategory  \\\n",
       "0  Current account  ...             Mobility - Windscreen    Windscreen   \n",
       "1  Current account  ...             Mobility - Windscreen    Windscreen   \n",
       "2  Current account  ...             Mobility - Windscreen    Windscreen   \n",
       "3  Current account  ...  Mobility - Metered Taxis - R2000    Own damage   \n",
       "4  Current account  ...  Mobility - Metered Taxis - R2000    Own damage   \n",
       "\n",
       "    CoverType            CoverGroup              Section  \\\n",
       "0  Windscreen  Comprehensive - Taxi  Motor Comprehensive   \n",
       "1  Windscreen  Comprehensive - Taxi  Motor Comprehensive   \n",
       "2  Windscreen  Comprehensive - Taxi  Motor Comprehensive   \n",
       "3  Own Damage  Comprehensive - Taxi  Motor Comprehensive   \n",
       "4  Own Damage  Comprehensive - Taxi  Motor Comprehensive   \n",
       "\n",
       "                           Product StatutoryClass StatutoryRiskType  \\\n",
       "0  Mobility Metered Taxis: Monthly     Commercial     IFRS Constant   \n",
       "1  Mobility Metered Taxis: Monthly     Commercial     IFRS Constant   \n",
       "2  Mobility Metered Taxis: Monthly     Commercial     IFRS Constant   \n",
       "3  Mobility Metered Taxis: Monthly     Commercial     IFRS Constant   \n",
       "4  Mobility Metered Taxis: Monthly     Commercial     IFRS Constant   \n",
       "\n",
       "   TotalPremium TotalClaims  \n",
       "0     21.929825         0.0  \n",
       "1     21.929825         0.0  \n",
       "2      0.000000         0.0  \n",
       "3    512.848070         0.0  \n",
       "4      0.000000         0.0  \n",
       "\n",
       "[5 rows x 52 columns]"
      ]
     },
     "execution_count": 11,
     "metadata": {},
     "output_type": "execute_result"
    }
   ],
   "source": [
    "df.head()"
   ]
  },
  {
   "cell_type": "code",
   "execution_count": 12,
   "metadata": {},
   "outputs": [],
   "source": [
    "# selecting relevant columns\n",
    "relevant_cols = ['TotalPremium', 'TotalClaims', 'Gender', 'PostalCode', 'Province', 'VehicleType', 'RegistrationYear', 'NewVehicle']\n",
    "\n",
    "df_relevant_cols = df[relevant_cols]"
   ]
  },
  {
   "cell_type": "code",
   "execution_count": 13,
   "metadata": {},
   "outputs": [],
   "source": [
    "# selecting relevant columns\n",
    "relevant_cols = ['TotalPremium', 'TotalClaims', 'Gender', 'PostalCode', 'Province', 'VehicleType', 'RegistrationYear', 'NewVehicle']\n",
    "\n",
    "df_relevant_cols = df[relevant_cols]"
   ]
  },
  {
   "cell_type": "code",
   "execution_count": 14,
   "metadata": {},
   "outputs": [
    {
     "data": {
      "text/html": [
       "<div>\n",
       "<style scoped>\n",
       "    .dataframe tbody tr th:only-of-type {\n",
       "        vertical-align: middle;\n",
       "    }\n",
       "\n",
       "    .dataframe tbody tr th {\n",
       "        vertical-align: top;\n",
       "    }\n",
       "\n",
       "    .dataframe thead th {\n",
       "        text-align: right;\n",
       "    }\n",
       "</style>\n",
       "<table border=\"1\" class=\"dataframe\">\n",
       "  <thead>\n",
       "    <tr style=\"text-align: right;\">\n",
       "      <th></th>\n",
       "      <th>TotalPremium</th>\n",
       "      <th>TotalClaims</th>\n",
       "      <th>Gender</th>\n",
       "      <th>PostalCode</th>\n",
       "      <th>Province</th>\n",
       "      <th>VehicleType</th>\n",
       "      <th>RegistrationYear</th>\n",
       "      <th>NewVehicle</th>\n",
       "    </tr>\n",
       "  </thead>\n",
       "  <tbody>\n",
       "    <tr>\n",
       "      <th>0</th>\n",
       "      <td>21.929825</td>\n",
       "      <td>0.0</td>\n",
       "      <td>Not specified</td>\n",
       "      <td>1459</td>\n",
       "      <td>Gauteng</td>\n",
       "      <td>Passenger Vehicle</td>\n",
       "      <td>2004</td>\n",
       "      <td>More than 6 months</td>\n",
       "    </tr>\n",
       "    <tr>\n",
       "      <th>1</th>\n",
       "      <td>21.929825</td>\n",
       "      <td>0.0</td>\n",
       "      <td>Not specified</td>\n",
       "      <td>1459</td>\n",
       "      <td>Gauteng</td>\n",
       "      <td>Passenger Vehicle</td>\n",
       "      <td>2004</td>\n",
       "      <td>More than 6 months</td>\n",
       "    </tr>\n",
       "    <tr>\n",
       "      <th>2</th>\n",
       "      <td>0.000000</td>\n",
       "      <td>0.0</td>\n",
       "      <td>Not specified</td>\n",
       "      <td>1459</td>\n",
       "      <td>Gauteng</td>\n",
       "      <td>Passenger Vehicle</td>\n",
       "      <td>2004</td>\n",
       "      <td>More than 6 months</td>\n",
       "    </tr>\n",
       "    <tr>\n",
       "      <th>3</th>\n",
       "      <td>512.848070</td>\n",
       "      <td>0.0</td>\n",
       "      <td>Not specified</td>\n",
       "      <td>1459</td>\n",
       "      <td>Gauteng</td>\n",
       "      <td>Passenger Vehicle</td>\n",
       "      <td>2004</td>\n",
       "      <td>More than 6 months</td>\n",
       "    </tr>\n",
       "    <tr>\n",
       "      <th>4</th>\n",
       "      <td>0.000000</td>\n",
       "      <td>0.0</td>\n",
       "      <td>Not specified</td>\n",
       "      <td>1459</td>\n",
       "      <td>Gauteng</td>\n",
       "      <td>Passenger Vehicle</td>\n",
       "      <td>2004</td>\n",
       "      <td>More than 6 months</td>\n",
       "    </tr>\n",
       "    <tr>\n",
       "      <th>...</th>\n",
       "      <td>...</td>\n",
       "      <td>...</td>\n",
       "      <td>...</td>\n",
       "      <td>...</td>\n",
       "      <td>...</td>\n",
       "      <td>...</td>\n",
       "      <td>...</td>\n",
       "      <td>...</td>\n",
       "    </tr>\n",
       "    <tr>\n",
       "      <th>1000093</th>\n",
       "      <td>347.235175</td>\n",
       "      <td>0.0</td>\n",
       "      <td>Male</td>\n",
       "      <td>7493</td>\n",
       "      <td>Western Cape</td>\n",
       "      <td>Passenger Vehicle</td>\n",
       "      <td>2013</td>\n",
       "      <td>More than 6 months</td>\n",
       "    </tr>\n",
       "    <tr>\n",
       "      <th>1000094</th>\n",
       "      <td>347.235175</td>\n",
       "      <td>0.0</td>\n",
       "      <td>Male</td>\n",
       "      <td>7493</td>\n",
       "      <td>Western Cape</td>\n",
       "      <td>Passenger Vehicle</td>\n",
       "      <td>2013</td>\n",
       "      <td>More than 6 months</td>\n",
       "    </tr>\n",
       "    <tr>\n",
       "      <th>1000095</th>\n",
       "      <td>347.235175</td>\n",
       "      <td>0.0</td>\n",
       "      <td>Male</td>\n",
       "      <td>7493</td>\n",
       "      <td>Western Cape</td>\n",
       "      <td>Passenger Vehicle</td>\n",
       "      <td>2013</td>\n",
       "      <td>More than 6 months</td>\n",
       "    </tr>\n",
       "    <tr>\n",
       "      <th>1000096</th>\n",
       "      <td>2.315000</td>\n",
       "      <td>0.0</td>\n",
       "      <td>Male</td>\n",
       "      <td>7493</td>\n",
       "      <td>Western Cape</td>\n",
       "      <td>Passenger Vehicle</td>\n",
       "      <td>2013</td>\n",
       "      <td>More than 6 months</td>\n",
       "    </tr>\n",
       "    <tr>\n",
       "      <th>1000097</th>\n",
       "      <td>2.315000</td>\n",
       "      <td>0.0</td>\n",
       "      <td>Male</td>\n",
       "      <td>7493</td>\n",
       "      <td>Western Cape</td>\n",
       "      <td>Passenger Vehicle</td>\n",
       "      <td>2013</td>\n",
       "      <td>More than 6 months</td>\n",
       "    </tr>\n",
       "  </tbody>\n",
       "</table>\n",
       "<p>1000098 rows × 8 columns</p>\n",
       "</div>"
      ],
      "text/plain": [
       "         TotalPremium  TotalClaims         Gender  PostalCode      Province  \\\n",
       "0           21.929825          0.0  Not specified        1459       Gauteng   \n",
       "1           21.929825          0.0  Not specified        1459       Gauteng   \n",
       "2            0.000000          0.0  Not specified        1459       Gauteng   \n",
       "3          512.848070          0.0  Not specified        1459       Gauteng   \n",
       "4            0.000000          0.0  Not specified        1459       Gauteng   \n",
       "...               ...          ...            ...         ...           ...   \n",
       "1000093    347.235175          0.0           Male        7493  Western Cape   \n",
       "1000094    347.235175          0.0           Male        7493  Western Cape   \n",
       "1000095    347.235175          0.0           Male        7493  Western Cape   \n",
       "1000096      2.315000          0.0           Male        7493  Western Cape   \n",
       "1000097      2.315000          0.0           Male        7493  Western Cape   \n",
       "\n",
       "               VehicleType  RegistrationYear          NewVehicle  \n",
       "0        Passenger Vehicle              2004  More than 6 months  \n",
       "1        Passenger Vehicle              2004  More than 6 months  \n",
       "2        Passenger Vehicle              2004  More than 6 months  \n",
       "3        Passenger Vehicle              2004  More than 6 months  \n",
       "4        Passenger Vehicle              2004  More than 6 months  \n",
       "...                    ...               ...                 ...  \n",
       "1000093  Passenger Vehicle              2013  More than 6 months  \n",
       "1000094  Passenger Vehicle              2013  More than 6 months  \n",
       "1000095  Passenger Vehicle              2013  More than 6 months  \n",
       "1000096  Passenger Vehicle              2013  More than 6 months  \n",
       "1000097  Passenger Vehicle              2013  More than 6 months  \n",
       "\n",
       "[1000098 rows x 8 columns]"
      ]
     },
     "execution_count": 14,
     "metadata": {},
     "output_type": "execute_result"
    }
   ],
   "source": [
    "df_relevant_cols"
   ]
  },
  {
   "cell_type": "code",
   "execution_count": 15,
   "metadata": {},
   "outputs": [
    {
     "name": "stdout",
     "output_type": "stream",
     "text": [
      "   Column Name  Missing Values  Percentage Missing\n",
      "2       Gender            9536            0.953507\n",
      "5  VehicleType             552            0.055195\n",
      "7   NewVehicle          153295           15.327998\n"
     ]
    }
   ],
   "source": [
    "# checking for columns with missing values\n",
    "missing_data = check_missing_data(df_relevant_cols)\n",
    "print(missing_data)"
   ]
  },
  {
   "cell_type": "code",
   "execution_count": 16,
   "metadata": {},
   "outputs": [],
   "source": [
    "#  cleaning the data\n",
    "df_relevant_cols.loc[:, 'VehicleType'] = df_relevant_cols['VehicleType'].fillna(df_relevant_cols['VehicleType'].mode()[0])\n",
    "df_relevant_cols.loc[:, 'NewVehicle'] = df_relevant_cols['NewVehicle'].fillna(df_relevant_cols['NewVehicle'].mode()[0])\n",
    "df_relevant_cols.loc[:, 'Gender'] = df_relevant_cols['Gender'].fillna(df_relevant_cols['Gender'].mode()[0])"
   ]
  },
  {
   "cell_type": "code",
   "execution_count": 17,
   "metadata": {},
   "outputs": [
    {
     "name": "stdout",
     "output_type": "stream",
     "text": [
      "Success: No missing values.\n"
     ]
    }
   ],
   "source": [
    "# checking for columns with missing values after cleaning\n",
    "missing_data = check_missing_data(df_relevant_cols)\n",
    "print(missing_data)"
   ]
  },
  {
   "cell_type": "markdown",
   "metadata": {},
   "source": [
    "start AB hypotesis testing\n",
    "\n",
    "Testing of risk difference across provinces"
   ]
  },
  {
   "cell_type": "code",
   "execution_count": 18,
   "metadata": {},
   "outputs": [],
   "source": [
    "H0 = \"There is no relationship between province and total claims. They are independent\"\n",
    "H1 = \"There is a relationship between province and total claims. They are not independent\""
   ]
  },
  {
   "cell_type": "code",
   "execution_count": 19,
   "metadata": {},
   "outputs": [
    {
     "name": "stderr",
     "output_type": "stream",
     "text": [
      "C:\\Users\\meet_\\AppData\\Local\\Temp\\ipykernel_17712\\3701158574.py:4: SettingWithCopyWarning: \n",
      "A value is trying to be set on a copy of a slice from a DataFrame.\n",
      "Try using .loc[row_indexer,col_indexer] = value instead\n",
      "\n",
      "See the caveats in the documentation: https://pandas.pydata.org/pandas-docs/stable/user_guide/indexing.html#returning-a-view-versus-a-copy\n",
      "  province_data['NoClaim'] = province_data['TotalClaims'].apply(lambda x: 1 if x == 0 else 0)\n"
     ]
    },
    {
     "name": "stdout",
     "output_type": "stream",
     "text": [
      "               NoClaim  ClaimTaken\n",
      "Province                          \n",
      "Eastern Cape     30286          50\n",
      "Free State        8088          11\n",
      "Gauteng         392541        1322\n",
      "KwaZulu-Natal   169298         483\n",
      "Limpopo          24769          67\n",
      "Mpumalanga       52588         128\n",
      "North West      142938         349\n",
      "Northern Cape     6372           8\n",
      "Western Cape    170425         370\n"
     ]
    },
    {
     "name": "stderr",
     "output_type": "stream",
     "text": [
      "C:\\Users\\meet_\\AppData\\Local\\Temp\\ipykernel_17712\\3701158574.py:5: SettingWithCopyWarning: \n",
      "A value is trying to be set on a copy of a slice from a DataFrame.\n",
      "Try using .loc[row_indexer,col_indexer] = value instead\n",
      "\n",
      "See the caveats in the documentation: https://pandas.pydata.org/pandas-docs/stable/user_guide/indexing.html#returning-a-view-versus-a-copy\n",
      "  province_data['ClaimTaken'] = province_data['TotalClaims'].apply(lambda x: 1 if x > 0 else 0)\n"
     ]
    }
   ],
   "source": [
    "province_data = df_relevant_cols[['Province', 'TotalClaims']]\n",
    "\n",
    "# Create 'NoClaim' and 'ClaimTaken' columns\n",
    "province_data['NoClaim'] = province_data['TotalClaims'].apply(lambda x: 1 if x == 0 else 0)\n",
    "province_data['ClaimTaken'] = province_data['TotalClaims'].apply(lambda x: 1 if x > 0 else 0)\n",
    "\n",
    "# Group by 'Province' and sum 'NoClaim' and 'ClaimTaken'\n",
    "grouped_data = province_data.groupby('Province')[['NoClaim', 'ClaimTaken']].sum()\n",
    "\n",
    "print(grouped_data)"
   ]
  },
  {
   "cell_type": "code",
   "execution_count": 20,
   "metadata": {},
   "outputs": [
    {
     "name": "stdout",
     "output_type": "stream",
     "text": [
      "[[30286, 50], [8088, 11], [392541, 1322], [169298, 483], [24769, 67], [52588, 128], [142938, 349], [6372, 8], [170425, 370]]\n"
     ]
    },
    {
     "data": {
      "text/plain": [
       "[[30286, 50],\n",
       " [8088, 11],\n",
       " [392541, 1322],\n",
       " [169298, 483],\n",
       " [24769, 67],\n",
       " [52588, 128],\n",
       " [142938, 349],\n",
       " [6372, 8],\n",
       " [170425, 370]]"
      ]
     },
     "execution_count": 20,
     "metadata": {},
     "output_type": "execute_result"
    }
   ],
   "source": [
    "# Convert grouped DataFrame to a list of lists\n",
    "grouped_data_list = grouped_data.values.tolist()\n",
    "\n",
    "print(grouped_data_list)\n",
    "\n",
    "[[30286, 50], [8088, 11], [392541, 1322], [169298, 483], [24769, 67], [52588, 128], [142938, 349], [6372, 8], [170425, 370]]\n",
    "\n"
   ]
  },
  {
   "cell_type": "code",
   "execution_count": 21,
   "metadata": {},
   "outputs": [
    {
     "name": "stdout",
     "output_type": "stream",
     "text": [
      "Chi-square statistic: 104.19041870171219\n",
      "p-value: 5.926803398618002e-19\n",
      "Degrees of freedom: 8\n",
      "Expected values:\n",
      "[[3.02514311e+04 8.45689031e+01]\n",
      " [8.07642209e+03 2.25779123e+01]\n",
      " [3.92765012e+05 1.09798793e+03]\n",
      " [1.69307695e+05 4.73305411e+02]\n",
      " [2.47667637e+04 6.92363290e+01]\n",
      " [5.25690415e+04 1.46958541e+02]\n",
      " [1.42887553e+05 3.99447007e+02]\n",
      " [6.36221421e+03 1.77857859e+01]\n",
      " [1.70318868e+05 4.76132180e+02]]\n"
     ]
    }
   ],
   "source": [
    "# Perform Chi-square test of independence\n",
    "chi2_stat, p_value, dof, expected_values = chi2_contingency(grouped_data_list)\n",
    "\n",
    "print(f'Chi-square statistic: {chi2_stat}')\n",
    "print(f'p-value: {p_value}')\n",
    "print(f'Degrees of freedom: {dof}')\n",
    "print('Expected values:')\n",
    "print(expected_values)"
   ]
  },
  {
   "cell_type": "code",
   "execution_count": 22,
   "metadata": {},
   "outputs": [
    {
     "name": "stdout",
     "output_type": "stream",
     "text": [
      "Significance=0.050, p = 0.000\n",
      "Dependent, we reject the null hypothesis\n",
      "There is a relationship between province and total claims. They are not independent\n"
     ]
    }
   ],
   "source": [
    "pro=0.95\n",
    "alpha = 1- pro\n",
    "print('Significance=%0.3f, p = %0.3f' % (alpha, p_value))\n",
    "if p_value <= alpha:\n",
    "    print('Dependent, we reject the null hypothesis')\n",
    "    print(H1)\n",
    "    \n",
    "else:\n",
    "    print('Independent, we fail to reject the null hypothesis')\n",
    "    print(H0)\n",
    "    "
   ]
  },
  {
   "cell_type": "markdown",
   "metadata": {},
   "source": [
    "\n",
    "Testing risk differences between zip codes\n"
   ]
  },
  {
   "cell_type": "code",
   "execution_count": 23,
   "metadata": {},
   "outputs": [],
   "source": [
    "H0 = \"There is no relationship between postal code and total claims. They are independent\"\n",
    "H1 = \"There is a relationship between postal code and total claims. They are not independent\""
   ]
  },
  {
   "cell_type": "code",
   "execution_count": 24,
   "metadata": {},
   "outputs": [
    {
     "name": "stderr",
     "output_type": "stream",
     "text": [
      "C:\\Users\\meet_\\AppData\\Local\\Temp\\ipykernel_17712\\3344563132.py:4: SettingWithCopyWarning: \n",
      "A value is trying to be set on a copy of a slice from a DataFrame.\n",
      "Try using .loc[row_indexer,col_indexer] = value instead\n",
      "\n",
      "See the caveats in the documentation: https://pandas.pydata.org/pandas-docs/stable/user_guide/indexing.html#returning-a-view-versus-a-copy\n",
      "  postalcode_data['NoClaim'] = postalcode_data['TotalClaims'].apply(lambda x: 1 if x == 0 else 0)\n"
     ]
    },
    {
     "name": "stdout",
     "output_type": "stream",
     "text": [
      "            NoClaim  ClaimTaken\n",
      "PostalCode                     \n",
      "1              5329          12\n",
      "2              1482           6\n",
      "4                77           0\n",
      "5               396           4\n",
      "6               438           2\n",
      "...             ...         ...\n",
      "9781            640           3\n",
      "9830             56           0\n",
      "9868            100           0\n",
      "9869           1414           1\n",
      "9870            220           0\n",
      "\n",
      "[888 rows x 2 columns]\n"
     ]
    },
    {
     "name": "stderr",
     "output_type": "stream",
     "text": [
      "C:\\Users\\meet_\\AppData\\Local\\Temp\\ipykernel_17712\\3344563132.py:5: SettingWithCopyWarning: \n",
      "A value is trying to be set on a copy of a slice from a DataFrame.\n",
      "Try using .loc[row_indexer,col_indexer] = value instead\n",
      "\n",
      "See the caveats in the documentation: https://pandas.pydata.org/pandas-docs/stable/user_guide/indexing.html#returning-a-view-versus-a-copy\n",
      "  postalcode_data['ClaimTaken'] = postalcode_data['TotalClaims'].apply(lambda x: 1 if x > 0 else 0)\n"
     ]
    }
   ],
   "source": [
    "postalcode_data = df_relevant_cols[['PostalCode', 'TotalClaims']]\n",
    "\n",
    "# Create 'NoClaim' and 'ClaimTaken' columns\n",
    "postalcode_data['NoClaim'] = postalcode_data['TotalClaims'].apply(lambda x: 1 if x == 0 else 0)\n",
    "postalcode_data['ClaimTaken'] = postalcode_data['TotalClaims'].apply(lambda x: 1 if x > 0 else 0)\n",
    "\n",
    "# Group by 'Province' and sum 'NoClaim' and 'ClaimTaken'\n",
    "grouped_data = postalcode_data.groupby('PostalCode')[['NoClaim', 'ClaimTaken']].sum()\n",
    "\n",
    "print(grouped_data)"
   ]
  },
  {
   "cell_type": "code",
   "execution_count": 25,
   "metadata": {},
   "outputs": [
    {
     "name": "stdout",
     "output_type": "stream",
     "text": [
      "[[5329, 12], [1482, 6], [77, 0], [396, 4], [438, 2], [356, 0], [1278, 1], [160, 0], [412, 3], [605, 0], [453, 1], [132, 3], [343, 0], [484, 2], [373, 1], [22, 0], [119, 1], [230, 0], [308, 2], [216, 0], [662, 7], [700, 1], [181, 0], [50, 0], [100, 0], [156, 0], [1813, 7], [100, 0], [48961, 210], [1031, 7], [510, 0], [99, 1], [108, 2], [250, 0], [214, 0], [50, 0], [360, 0], [9391, 32], [263, 1], [192, 0], [792, 7], [467, 3], [3546, 10], [906, 1], [585, 0], [380, 0], [478, 2], [1353, 8], [921, 6], [154, 4], [1655, 9], [2502, 13], [395, 2], [1735, 7], [330, 0], [3283, 7], [274, 0], [161, 1], [73, 0], [121, 0], [81, 0], [366, 6], [108, 2], [2040, 4], [805, 5], [1764, 1], [250, 0], [907, 0], [63, 0], [188, 0], [192, 0], [802, 0], [328, 3], [1, 0], [108, 0], [243, 0], [25479, 67], [4983, 7], [90, 0], [9510, 21], [2278, 6], [2547, 8], [1001, 2], [1935, 2], [1563, 5], [160, 0], [543, 1], [5043, 4], [5602, 9], [386, 0], [3500, 3], [728, 1], [1, 0], [60, 0], [7, 0], [831, 3], [714, 3], [60, 0], [1667, 4], [8, 0], [100, 0], [801, 1], [8, 0], [3926, 9], [163, 0], [238, 2], [1387, 3], [17, 0], [480, 0], [66, 0], [90, 0], [104, 0], [370, 0], [6658, 34], [707, 3], [1091, 5], [1966, 9], [132, 0], [108, 0], [872, 1], [401, 0], [790, 6], [3163, 7], [130, 0], [56, 0], [134, 1], [108, 0], [13743, 32], [473, 4], [64, 0], [372, 0], [17, 1], [215, 1], [130, 0], [10182, 44], [3770, 3], [307, 0], [2436, 11], [369, 1], [268, 2], [475, 1], [216, 0], [320, 0], [140, 0], [216, 0], [304, 2], [366, 1], [2916, 6], [768, 0], [807, 3], [100, 0], [70, 0], [66, 0], [348, 1], [329, 0], [533, 0], [578, 2], [180, 0], [132, 0], [237, 2], [110, 0], [1307, 5], [658, 4], [384, 3], [117, 3], [371, 1], [240, 0], [484, 1], [60, 0], [814, 0], [1956, 8], [66, 0], [132, 0], [66, 0], [20, 0], [100, 0], [650, 1], [99, 0], [117, 0], [343, 0], [126, 0], [80, 0], [80, 0], [6237, 19], [312, 2], [99, 0], [129, 1], [70, 0], [208, 0], [131, 1], [171, 0], [56, 0], [144, 0], [125, 0], [110, 0], [543, 1], [320, 0], [232, 0], [2543, 11], [2194, 6], [8460, 16], [59, 1], [348, 2], [36, 0], [36, 0], [1153, 10], [596, 3], [562, 1], [590, 0], [1231, 2], [2329, 9], [1708, 3], [99, 0], [1114, 1], [577, 2], [415, 0], [3523, 5], [180, 0], [3105, 9], [3959, 14], [966, 4], [629, 1], [913, 0], [56, 0], [1027, 1], [1756, 5], [253, 0], [840, 3], [680, 1], [397, 0], [68, 2], [126, 0], [694, 0], [270, 0], [430, 0], [108, 0], [228, 0], [110, 0], [231, 0], [108, 0], [206, 0], [108, 2], [110, 0], [88, 0], [108, 0], [55, 0], [1477, 7], [435, 1], [303, 0], [120, 0], [239, 1], [87, 1], [1120, 5], [1786, 6], [2073, 1], [290, 0], [180, 0], [191, 1], [1342, 2], [160, 0], [1419, 4], [622, 0], [1247, 6], [20, 0], [191, 3], [619, 0], [112, 0], [936, 1], [527, 1], [383, 2], [1760, 4], [182, 2], [110, 1], [81, 0], [150, 0], [1883, 2], [3879, 11], [308, 2], [1007, 2], [253, 2], [2071, 3], [1169, 1], [49, 1], [296, 0], [164, 0], [557, 0], [81, 0], [597, 1], [80, 0], [733, 2], [2108, 2], [140, 0], [208, 1], [81, 0], [178, 0], [70, 0], [3161, 8], [1807, 2], [80, 2], [452, 0], [973, 4], [1605, 1], [131, 0], [120, 0], [555, 0], [90, 0], [779, 3], [1778, 2], [404, 0], [10082, 25], [172, 0], [842, 4], [171, 1], [274, 0], [300, 0], [549, 3], [242, 0], [99, 0], [431, 1], [75, 2], [2406, 8], [65, 0], [1808, 7], [715, 2], [919, 2], [160, 0], [471, 1], [79, 0], [154, 0], [1606, 5], [3008, 5], [253, 2], [110, 0], [1, 0], [2516, 1], [1970, 9], [518, 1], [2171, 4], [3860, 8], [135, 0], [60, 0], [241, 0], [267, 1], [482, 1], [50, 0], [75, 1], [1129, 0], [68, 0], [289, 3], [80, 0], [182, 0], [286, 1], [168, 0], [1799, 4], [252, 0], [58, 0], [1249, 2], [8611, 44], [437, 0], [1487, 6], [346, 0], [3630, 11], [80, 0], [1180, 8], [1392, 1], [48, 0], [60, 0], [50, 0], [206, 0], [173, 0], [32, 0], [1038, 1], [72, 0], [87, 2], [230, 0], [63, 1], [361, 0], [312, 0], [437, 1], [800, 0], [1271, 7], [133012, 486], [2985, 4], [297, 0], [180, 0], [47, 1], [1502, 2], [150, 0], [90, 0], [70, 0], [22, 0], [70, 0], [406, 2], [2413, 11], [888, 4], [16, 0], [750, 3], [90, 0], [90, 0], [139, 1], [167, 1], [336, 2], [677, 1], [53, 1], [3450, 12], [1722, 6], [1365, 5], [1338, 4], [539, 1], [180, 0], [217, 0], [120, 0], [550, 6], [99, 1], [742, 9], [436, 1], [573, 1], [280, 0], [414, 0], [499, 1], [30, 0], [336, 0], [1697, 8], [143, 0], [11016, 32], [437, 2], [3333, 13], [1, 0], [121, 0], [100, 0], [261, 3], [120, 0], [402, 1], [4121, 7], [66, 0], [263, 0], [79, 1], [1440, 2], [30, 0], [768, 0], [160, 0], [1300, 5], [66, 0], [290, 0], [200, 0], [192, 0], [159, 1], [55, 0], [136, 0], [1, 0], [1245, 1], [362, 0], [2104, 5], [547, 1], [270, 0], [20, 0], [550, 0], [110, 0], [149, 2], [66, 0], [60, 0], [1708, 0], [262, 0], [80, 0], [1304, 0], [1499, 1], [1064, 1], [82, 0], [207, 1], [900, 4], [52, 3], [121, 0], [220, 0], [419, 1], [2, 0], [461, 1], [72, 0], [3, 0], [292, 0], [144, 0], [503, 2], [132, 0], [1843, 7], [563, 1], [119, 0], [2109, 9], [105, 0], [144, 0], [171, 0], [70, 0], [994, 2], [24, 0], [240, 0], [196, 0], [9, 0], [170, 0], [144, 0], [230, 0], [461, 1], [102, 2], [775, 0], [689, 0], [80, 0], [154, 0], [120, 1], [72, 0], [135, 1], [6409, 20], [99, 0], [3508, 2], [198, 0], [121, 0], [388, 2], [247, 1], [1765, 6], [226, 2], [12, 0], [69, 1], [225, 0], [1, 0], [241, 0], [475, 2], [45, 0], [660, 3], [9, 0], [49, 1], [45, 0], [983, 1], [32, 0], [285, 2], [80, 0], [132, 0], [390, 0], [421, 2], [264, 0], [1507, 1], [1, 0], [25, 0], [968, 0], [2, 0], [58, 0], [179, 0], [60, 0], [83, 1], [529, 1], [2621, 4], [45, 0], [108, 0], [277, 1], [1580, 1], [150, 0], [5232, 13], [6627, 20], [1905, 3], [400, 1], [220, 2], [1811, 1], [10, 0], [64, 0], [3195, 9], [36, 0], [118, 3], [860, 2], [650, 7], [5848, 21], [6248, 19], [2564, 12], [10, 0], [2238, 7], [1307, 7], [317, 3], [1495, 5], [1595, 9], [1250, 3], [132, 0], [2157, 17], [925, 5], [3773, 8], [1728, 0], [8204, 30], [1517, 6], [323, 1], [2222, 4], [619, 1], [115, 0], [76, 0], [289, 2], [839, 0], [3934, 19], [6506, 20], [1753, 8], [882, 6], [3604, 16], [73, 0], [870, 2], [3291, 3], [316, 0], [96, 0], [1179, 1], [286, 2], [831, 1], [5484, 15], [70, 0], [377, 1], [455, 5], [64, 0], [32, 0], [578, 3], [589, 11], [88, 0], [132, 0], [56, 0], [1431, 10], [72, 0], [438, 0], [180, 0], [274, 0], [128, 0], [144, 0], [495, 0], [1026, 2], [1008, 5], [54, 0], [458, 1], [5872, 6], [71, 0], [3511, 12], [9703, 27], [705, 2], [309, 0], [382, 0], [296, 1], [2380, 1], [186, 0], [1598, 2], [730, 0], [628, 0], [18, 0], [60, 0], [70, 0], [120, 0], [91, 0], [323, 1], [629, 1], [312, 0], [217, 0], [224, 0], [129, 0], [48, 0], [11, 0], [1155, 1], [256, 0], [1021, 2], [108, 0], [90, 0], [1815, 3], [269, 0], [335, 2], [82, 0], [435, 2], [886, 1], [1754, 2], [148, 0], [180, 0], [178, 0], [1, 0], [466, 0], [344, 0], [363, 0], [312, 0], [110, 0], [424, 1], [299, 0], [1420, 1], [1450, 1], [134, 0], [230, 1], [419, 0], [229, 0], [140, 0], [808, 6], [2, 0], [408, 0], [54, 0], [131, 1], [729, 1], [36, 0], [80, 0], [216, 0], [90, 0], [62, 1], [365, 0], [223, 0], [306, 0], [80, 0], [80, 0], [215, 2], [252, 1], [80, 0], [98, 1], [108, 0], [187, 0], [216, 0], [777, 1], [316, 0], [479, 0], [187, 0], [22, 0], [88, 0], [112, 0], [246, 0], [157, 1], [1020, 1], [150, 0], [120, 0], [403, 0], [2538, 4], [1615, 12], [121, 0], [369, 0], [77, 0], [600, 0], [180, 0], [104, 0], [153, 0], [335, 1], [551, 1], [288, 0], [107, 1], [783, 1], [458, 1], [1, 0], [3, 0], [219, 0], [2, 0], [1, 0], [508, 1], [159, 1], [1, 0], [216, 0], [225, 0], [90, 0], [144, 0], [320, 1], [10133, 28], [447, 0], [1813, 2], [92, 0], [196, 2], [3895, 14], [493, 2], [1037, 1], [64, 0], [66, 0], [405, 0], [1, 0], [151, 0], [1, 0], [1, 0], [438, 1], [108, 0], [18489, 29], [279, 0], [340, 0], [756, 0], [4451, 21], [80, 0], [1951, 6], [1993, 6], [133, 0], [675, 1], [1, 0], [1793, 1], [1587, 2], [305, 0], [1512, 0], [681, 1], [132, 0], [1597, 2], [240, 0], [267, 0], [1720, 5], [1, 0], [675, 0], [5994, 10], [3, 0], [264, 0], [2812, 3], [1040, 4], [4, 0], [2, 0], [356, 0], [441, 0], [284, 0], [173, 0], [57, 0], [55, 0], [152, 0], [287, 4], [1972, 0], [9390, 17], [258, 3], [126, 0], [1, 0], [5, 0], [2760, 12], [1064, 0], [2851, 4], [96, 0], [1258, 2], [28535, 50], [5903, 14], [445, 0], [59, 0], [1, 0], [4, 0], [2427, 4], [233, 0], [5563, 5], [216, 0], [635, 4], [185, 0], [1077, 0], [3, 0], [932, 6], [2724, 4], [598, 1], [2084, 10], [11743, 51], [589, 1], [519, 1], [4501, 16], [4849, 8], [390, 0], [883, 3], [547, 2], [297, 0], [439, 0], [99, 0], [88, 0], [297, 0], [241, 1], [220, 0], [1615, 3], [99, 0], [417, 0], [306, 0], [124, 0], [100, 0], [72, 0], [88, 0], [127, 0], [531, 0], [289, 1], [60, 0], [582, 2], [1, 0], [70, 0], [54, 1], [120, 0], [36, 0], [1813, 2], [956, 1], [359, 1], [54, 1], [297, 0], [110, 0], [277, 0], [80, 0], [90, 0], [90, 0], [153, 1], [96, 0], [108, 0], [2, 0], [100, 0], [165, 0], [50, 0], [45, 0], [400, 0], [120, 0], [131, 1], [212, 0], [640, 3], [56, 0], [100, 0], [1414, 1], [220, 0]]\n"
     ]
    }
   ],
   "source": [
    "# Convert grouped DataFrame to a list of lists\n",
    "grouped_data_list = grouped_data.values.tolist()\n",
    "\n",
    "print(grouped_data_list)"
   ]
  },
  {
   "cell_type": "code",
   "execution_count": 26,
   "metadata": {},
   "outputs": [
    {
     "name": "stdout",
     "output_type": "stream",
     "text": [
      "Chi-square statistic: 1454.456517818413\n",
      "p-value: 3.159060974473238e-30\n",
      "Degrees of freedom: 887\n",
      "Expected values:\n",
      "[[5.32611068e+03 1.48893233e+01]\n",
      " [1.48385184e+03 4.14815822e+00]\n",
      " [7.67853440e+01 2.14656037e-01]\n",
      " ...\n",
      " [9.97212259e+01 2.78774074e-01]\n",
      " [1.41105535e+03 3.94465315e+00]\n",
      " [2.19386697e+02 6.13302963e-01]]\n"
     ]
    }
   ],
   "source": [
    "# Perform Chi-square test of independence\n",
    "chi2_stat, p_value, dof, expected_values = chi2_contingency(grouped_data_list)\n",
    "\n",
    "print(f'Chi-square statistic: {chi2_stat}')\n",
    "print(f'p-value: {p_value}')\n",
    "print(f'Degrees of freedom: {dof}')\n",
    "print('Expected values:')\n",
    "print(expected_values)"
   ]
  },
  {
   "cell_type": "code",
   "execution_count": 27,
   "metadata": {},
   "outputs": [
    {
     "name": "stdout",
     "output_type": "stream",
     "text": [
      "Significance=0.050, p = 0.000\n",
      "Dependent, we reject the null hypothesis\n",
      "There is a relationship between postal code and total claims. They are not independent\n"
     ]
    }
   ],
   "source": [
    "pro=0.95\n",
    "alpha = 1- pro\n",
    "print('Significance=%0.3f, p = %0.3f' % (alpha, p_value))\n",
    "if p_value <= alpha:\n",
    "    print('Dependent, we reject the null hypothesis')\n",
    "    print(H1)\n",
    "    \n",
    "else:\n",
    "    print('Independent, we fail to reject the null hypothesis')\n",
    "    print(H0)\n",
    "    "
   ]
  },
  {
   "cell_type": "markdown",
   "metadata": {},
   "source": [
    "\n",
    "Testing the risk differences between men and women\n"
   ]
  },
  {
   "cell_type": "code",
   "execution_count": 28,
   "metadata": {},
   "outputs": [],
   "source": [
    "H0 = \"There is no risk difference between women and men. They are independent\"\n",
    "H1 = \"There is a risk difference between women and men. They are not independent\""
   ]
  },
  {
   "cell_type": "code",
   "execution_count": 29,
   "metadata": {},
   "outputs": [
    {
     "name": "stderr",
     "output_type": "stream",
     "text": [
      "C:\\Users\\meet_\\AppData\\Local\\Temp\\ipykernel_17712\\2603944386.py:4: SettingWithCopyWarning: \n",
      "A value is trying to be set on a copy of a slice from a DataFrame.\n",
      "Try using .loc[row_indexer,col_indexer] = value instead\n",
      "\n",
      "See the caveats in the documentation: https://pandas.pydata.org/pandas-docs/stable/user_guide/indexing.html#returning-a-view-versus-a-copy\n",
      "  gender_data['NoClaim'] = gender_data['TotalClaims'].apply(lambda x: 1 if x == 0 else 0)\n",
      "C:\\Users\\meet_\\AppData\\Local\\Temp\\ipykernel_17712\\2603944386.py:5: SettingWithCopyWarning: \n",
      "A value is trying to be set on a copy of a slice from a DataFrame.\n",
      "Try using .loc[row_indexer,col_indexer] = value instead\n",
      "\n",
      "See the caveats in the documentation: https://pandas.pydata.org/pandas-docs/stable/user_guide/indexing.html#returning-a-view-versus-a-copy\n",
      "  gender_data['ClaimTaken'] = gender_data['TotalClaims'].apply(lambda x: 1 if x > 0 else 0)\n"
     ]
    },
    {
     "name": "stdout",
     "output_type": "stream",
     "text": [
      "               NoClaim  ClaimTaken\n",
      "Gender                            \n",
      "Female            6741          14\n",
      "Male             42723          94\n",
      "Not specified   947841        2680\n"
     ]
    }
   ],
   "source": [
    "gender_data = df_relevant_cols[['Gender', 'TotalClaims']]\n",
    "\n",
    "# Create 'NoClaim' and 'ClaimTaken' columns\n",
    "gender_data['NoClaim'] = gender_data['TotalClaims'].apply(lambda x: 1 if x == 0 else 0)\n",
    "gender_data['ClaimTaken'] = gender_data['TotalClaims'].apply(lambda x: 1 if x > 0 else 0)\n",
    "\n",
    "# Group by 'Province' and sum 'NoClaim' and 'ClaimTaken'\n",
    "grouped_data = gender_data.groupby('Gender')[['NoClaim', 'ClaimTaken']].sum()\n",
    "\n",
    "print(grouped_data)"
   ]
  },
  {
   "cell_type": "code",
   "execution_count": 30,
   "metadata": {},
   "outputs": [
    {
     "name": "stdout",
     "output_type": "stream",
     "text": [
      "[[6741, 14], [42723, 94], [947841, 2680]]\n"
     ]
    }
   ],
   "source": [
    "# Convert grouped DataFrame to a list of lists\n",
    "grouped_data_list = grouped_data.values.tolist()\n",
    "\n",
    "print(grouped_data_list)"
   ]
  },
  {
   "cell_type": "code",
   "execution_count": 31,
   "metadata": {},
   "outputs": [
    {
     "name": "stdout",
     "output_type": "stream",
     "text": [
      "Chi-square statistic: 6.9921715769627895\n",
      "p-value: 0.030315813998297487\n",
      "Degrees of freedom: 2\n",
      "Expected values:\n",
      "[[6.73616881e+03 1.88311887e+01]\n",
      " [4.26976373e+04 1.19362695e+02]\n",
      " [9.47871194e+05 2.64980612e+03]]\n"
     ]
    }
   ],
   "source": [
    "# Perform Chi-square test of independence\n",
    "chi2_stat, p_value, dof, expected_values = chi2_contingency(grouped_data_list)\n",
    "\n",
    "print(f'Chi-square statistic: {chi2_stat}')\n",
    "print(f'p-value: {p_value}')\n",
    "print(f'Degrees of freedom: {dof}')\n",
    "print('Expected values:')\n",
    "print(expected_values)"
   ]
  },
  {
   "cell_type": "code",
   "execution_count": 32,
   "metadata": {},
   "outputs": [
    {
     "name": "stdout",
     "output_type": "stream",
     "text": [
      "Significance=0.050, p = 0.030\n",
      "Dependent, we reject the null hypothesis\n",
      "There is a risk difference between women and men. They are not independent\n"
     ]
    }
   ],
   "source": [
    "#uu\n",
    "pro=0.95\n",
    "alpha = 1- pro\n",
    "print('Significance=%0.3f, p = %0.3f' % (alpha, p_value))\n",
    "if p_value <= alpha:\n",
    "    print('Dependent, we reject the null hypothesis')\n",
    "    print(H1)\n",
    "    \n",
    "else:\n",
    "    print('Independent, we fail to reject the null hypothesis')\n",
    "    print(H0)\n",
    "    "
   ]
  }
 ],
 "metadata": {
  "kernelspec": {
   "display_name": "Python 3",
   "language": "python",
   "name": "python3"
  },
  "language_info": {
   "codemirror_mode": {
    "name": "ipython",
    "version": 3
   },
   "file_extension": ".py",
   "mimetype": "text/x-python",
   "name": "python",
   "nbconvert_exporter": "python",
   "pygments_lexer": "ipython3",
   "version": "3.12.3"
  }
 },
 "nbformat": 4,
 "nbformat_minor": 2
}
